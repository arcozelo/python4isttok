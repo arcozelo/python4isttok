{
 "metadata": {
  "name": ""
 },
 "nbformat": 3,
 "nbformat_minor": 0,
 "worksheets": [
  {
   "cells": [
    {
     "cell_type": "code",
     "collapsed": false,
     "input": [
      "from sdas.core.LoadSdasData import LoadSdasData\n",
      "from sdas.core.StartSdas import StartSdas\n",
      "import numpy\n",
      "import sys\n",
      "from special_mean_val import special_mean_val\n",
      "from exposure_time import exposure_time\n",
      "from period_counter import period_counter\n",
      "\n",
      "#####################################################################\n",
      "densthresh=2.e18\n",
      "iplthresh=1.e3\n",
      "plok=1\n",
      "deok=1\n",
      "#####################################################################\n",
      "\n",
      "client = StartSdas()\n",
      "\n",
      "shotnr = client.searchMaxEventNumber('0x0000')\t\n",
      "\n",
      "plasma_curr_channelID='POST.PROCESSED.IPLASMA'; # Unique Identifier for plasma current\n",
      "plasma_dens_channelID='POST.PROCESSED.DENSITY'; # Unique Identifier for plasma density\n",
      "nhcos_channelID=      'MARTE_NODE_IVO3.DataCollection.Channel_105';\n",
      "print '\\nSHOT #'+str(shotnr)+'\\n'\n",
      "print 'Loading data'\n",
      "[nhecos,nhecos_times] = LoadSdasData(client, nhcos_channelID, shotnr);\n",
      "try:\n",
      "    [iplasma,iplasma_times] = LoadSdasData(client, plasma_curr_channelID, shotnr);\n",
      "    plok=numpy.all(numpy.isfinite(iplasma))\n",
      "except ValueError:\n",
      "    plok=0\n",
      "try:\n",
      "    [dens,dens_times] =       LoadSdasData(client, plasma_dens_channelID, shotnr);\n",
      "    deok=numpy.all(numpy.isfinite(dens))  # check if all finite\n",
      "except ValueError:\n",
      "    deok=0\n",
      "print 'Data loaded\\n'\n",
      "\n",
      "print type(iplasma) \n",
      "\n",
      "\n",
      "if plok:\n",
      "    print 'FROM IPLASMA   ( thresh',iplthresh,')'\n",
      "    exposure_time(numpy.abs(iplasma),iplasma_times,iplthresh)\n",
      "    print 'Mean current {0:.3f} kA'.format(special_mean_val(numpy.abs(iplasma),iplthresh)/1e3)\n",
      "    iplasma_periods = period_counter(numpy.abs(iplasma),iplthresh)\n",
      "    print 'I counted '+str(iplasma_periods)+' periods'\n",
      "else:\n",
      "    print 'NO IPLASMA DATA'\t\n",
      "\n",
      "print ''\n",
      "\n",
      "if deok:\n",
      "    print 'FROM DENSITY   ( thresh',densthresh,')'\n",
      "    exposure_time(dens,dens_times,densthresh)\n",
      "    print 'Mean density {0:.2e} m'.format(special_mean_val(dens,densthresh))+u'\\u207b\\u00b3'\n",
      "    dens_periods = period_counter(dens,densthresh)\n",
      "    print 'I counted '+str(dens_periods)+' periods'\n",
      "else:\n",
      "    print 'NO DENSITY DATA'\n",
      "\n",
      "print '\\n'"
     ],
     "language": "python",
     "metadata": {},
     "outputs": [
      {
       "output_type": "stream",
       "stream": "stdout",
       "text": [
        "\n",
        "SHOT #39108\n",
        "\n",
        "Loading data\n",
        "Data loaded\n"
       ]
      },
      {
       "output_type": "stream",
       "stream": "stdout",
       "text": [
        "\n",
        "<type 'numpy.ndarray'>\n",
        "FROM IPLASMA   ( thresh 1000.0 )\n",
        "There was 256.76 ms of plasma\n",
        "Mean current 3.614 kA\n",
        "I counted 10 periods"
       ]
      },
      {
       "output_type": "stream",
       "stream": "stdout",
       "text": [
        "\n",
        "\n",
        "FROM DENSITY   ( thresh 2e+18 )\n",
        "There was 248.57 ms of plasma\n",
        "Mean density 4.68e+18 m\u207b\u00b3\n",
        "I counted 10 periods"
       ]
      },
      {
       "output_type": "stream",
       "stream": "stdout",
       "text": [
        "\n",
        "\n",
        "\n"
       ]
      }
     ],
     "prompt_number": 1
    },
    {
     "cell_type": "code",
     "collapsed": false,
     "input": [
      "period_counter(nhecos, 10)"
     ],
     "language": "python",
     "metadata": {},
     "outputs": [
      {
       "metadata": {},
       "output_type": "pyout",
       "prompt_number": 3,
       "text": [
        "4"
       ]
      }
     ],
     "prompt_number": 3
    },
    {
     "cell_type": "code",
     "collapsed": false,
     "input": [
      "print len(nhecos_times)\n",
      "print len(dens_times)"
     ],
     "language": "python",
     "metadata": {},
     "outputs": [
      {
       "output_type": "stream",
       "stream": "stdout",
       "text": [
        "2953\n",
        "16384\n"
       ]
      }
     ],
     "prompt_number": 2
    },
    {
     "cell_type": "code",
     "collapsed": false,
     "input": [
      "input_data = abs(nhecos)\n",
      "threshold = 10\n",
      "\n",
      "count = 0\n",
      "tester = numpy.append(numpy.ones(10),numpy.zeros(1));\n",
      "\n",
      "mask = input_data > threshold; \n",
      "\n",
      "for i in range(len(mask[250:])-len(tester)):\n",
      "    if numpy.sum(numpy.equal(mask[250+i:250+i+len(tester)],tester))==len(tester):\n",
      "        count+=1\n",
      "    \n",
      "print count"
     ],
     "language": "python",
     "metadata": {},
     "outputs": [
      {
       "output_type": "stream",
       "stream": "stdout",
       "text": [
        "10\n"
       ]
      }
     ],
     "prompt_number": 9
    },
    {
     "cell_type": "code",
     "collapsed": false,
     "input": [
      "tester = numpy.append(numpy.ones(200),numpy.zeros(10));\n",
      "a = correlate(abs(iplasma),tester)\n",
      "plot(a)"
     ],
     "language": "python",
     "metadata": {},
     "outputs": [
      {
       "metadata": {},
       "output_type": "pyout",
       "prompt_number": 10,
       "text": [
        "[<matplotlib.lines.Line2D at 0x7fd4760b62d0>]"
       ]
      }
     ],
     "prompt_number": 10
    },
    {
     "cell_type": "code",
     "collapsed": false,
     "input": [],
     "language": "python",
     "metadata": {},
     "outputs": []
    }
   ],
   "metadata": {}
  }
 ]
}